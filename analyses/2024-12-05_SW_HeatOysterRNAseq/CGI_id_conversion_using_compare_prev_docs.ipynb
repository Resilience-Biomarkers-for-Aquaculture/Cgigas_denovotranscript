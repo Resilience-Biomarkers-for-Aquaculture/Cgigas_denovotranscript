{
 "cells": [
  {
   "cell_type": "code",
   "execution_count": null,
   "id": "final-vulnerability",
   "metadata": {},
   "outputs": [],
   "source": [
    "#download conversion table for scaffold to genome accession\n",
    "!wget https://ftp.ncbi.nlm.nih.gov/genomes/all/GCF/000/297/895/GCF_000297895.1_oyster_v9/GCF_000297895.1_oyster_v9_assembly_structure/Primary_Assembly/scaffold_localID2acc"
   ]
  },
  {
   "cell_type": "code",
   "execution_count": null,
   "id": "loose-mistress",
   "metadata": {},
   "outputs": [],
   "source": [
    "#download gtf\n",
    "!wget https://eagle.fish.washington.edu/roberto/Crassostrea_gigas.GCA_000297895.1.24.gtf"
   ]
  },
  {
   "cell_type": "code",
   "execution_count": null,
   "id": "specified-wisconsin",
   "metadata": {},
   "outputs": [],
   "source": [
    "#download comparison tables\n",
    "!wget https://ftp.ncbi.nlm.nih.gov/genomes/all/GCF/963/853/765/GCF_963853765.1_xbMagGiga1.1/Annotation_comparison/GCF_963853765.1_xbMagGiga1.1_compare_prev.txt.gz\n",
    "!wget https://ftp.ncbi.nlm.nih.gov/genomes/all/annotation_releases/29159/102/GCF_902806645.1_cgigas_uk_roslin_v1/Annotation_comparison/GCF_902806645.1_cgigas_uk_roslin_v1_compare_prev.txt.gz\n"
   ]
  },
  {
   "cell_type": "markdown",
   "id": "swedish-discrimination",
   "metadata": {},
   "source": [
    "### create a bedfile that substitutes scaffoldxxxx with NW accessions in the GTF file and then just prints the NW accession and range and CGI IDs"
   ]
  },
  {
   "cell_type": "code",
   "execution_count": 4,
   "id": "designed-abraham",
   "metadata": {},
   "outputs": [
    {
     "name": "stdout",
     "output_type": "stream",
     "text": [
      "#Scaffold ID\tAccession.version\r\n",
      "scaffold360\tNW_011934491.1\r\n",
      "scaffold18356\tNW_011934492.1\r\n",
      "scaffold20428\tNW_011934493.1\r\n",
      "scaffold18720\tNW_011934494.1\r\n",
      "scaffold23246\tNW_011934495.1\r\n",
      "scaffold23910\tNW_011934496.1\r\n",
      "scaffold19422\tNW_011934497.1\r\n",
      "scaffold480\tNW_011934498.1\r\n",
      "scaffold350\tNW_011934499.1\r\n"
     ]
    }
   ],
   "source": [
    "!head scaffold_localID2acc"
   ]
  },
  {
   "cell_type": "code",
   "execution_count": 7,
   "id": "hairy-garage",
   "metadata": {},
   "outputs": [
    {
     "name": "stdout",
     "output_type": "stream",
     "text": [
      "scaffold39040\tprotein_coding\texon\t10564\t10567\t.\t-\t.\t gene_id \"CGI_10003144\"; transcript_id \"EKC21896\"; exon_number \"1\"; seqedit \"false\";\r\n",
      "scaffold39040\tprotein_coding\tCDS\t10564\t10567\t.\t-\t0\t gene_id \"CGI_10003144\"; transcript_id \"EKC21896\"; exon_number \"1\"; protein_id \"EKC21896\";\r\n",
      "scaffold39040\tprotein_coding\tstart_codon\t10565\t10567\t.\t-\t0\t gene_id \"CGI_10003144\"; transcript_id \"EKC21896\"; exon_number \"1\";\r\n"
     ]
    }
   ],
   "source": [
    "!head -n 3 Crassostrea_gigas.GCA_000297895.1.24.gtf"
   ]
  },
  {
   "cell_type": "code",
   "execution_count": 10,
   "id": "united-company",
   "metadata": {},
   "outputs": [
    {
     "name": "stdout",
     "output_type": "stream",
     "text": [
      "NW_011935791.1\t10564\t10567\t gene_id \"CGI_10003144\"; transcript_id \"EKC21896\"; exon_number \"1\"; seqedit \"false\";\r\n",
      "NW_011935791.1\t10564\t10567\t gene_id \"CGI_10003144\"; transcript_id \"EKC21896\"; exon_number \"1\"; protein_id \"EKC21896\";\r\n",
      "NW_011935791.1\t10565\t10567\t gene_id \"CGI_10003144\"; transcript_id \"EKC21896\"; exon_number \"1\";\r\n",
      "NW_011935791.1\t3542\t3712\t gene_id \"CGI_10003144\"; transcript_id \"EKC21896\"; exon_number \"2\"; seqedit \"false\";\r\n",
      "NW_011935791.1\t3542\t3712\t gene_id \"CGI_10003144\"; transcript_id \"EKC21896\"; exon_number \"2\"; protein_id \"EKC21896\";\r\n",
      "NW_011935791.1\t3267\t3380\t gene_id \"CGI_10003144\"; transcript_id \"EKC21896\"; exon_number \"3\"; seqedit \"false\";\r\n",
      "NW_011935791.1\t3267\t3380\t gene_id \"CGI_10003144\"; transcript_id \"EKC21896\"; exon_number \"3\"; protein_id \"EKC21896\";\r\n",
      "NW_011935791.1\t908\t1041\t gene_id \"CGI_10003144\"; transcript_id \"EKC21896\"; exon_number \"4\"; seqedit \"false\";\r\n",
      "NW_011935791.1\t908\t1041\t gene_id \"CGI_10003144\"; transcript_id \"EKC21896\"; exon_number \"4\"; protein_id \"EKC21896\";\r\n",
      "NW_011935791.1\t587\t685\t gene_id \"CGI_10003144\"; transcript_id \"EKC21896\"; exon_number \"5\"; seqedit \"false\";\r\n"
     ]
    }
   ],
   "source": [
    "#first make a key with the scaffold_localID2acc file and use that to look up the NW accessession for each scaffold in the gtf\n",
    "\n",
    "!awk -F \"\\t\" 'NR==FNR{a[$1]=$2;next}$1 in a{print a[$1]\"\\t\"$4\"\\t\"$5\"\\t\"$9}' \\\n",
    "scaffold_localID2acc Crassostrea_gigas.GCA_000297895.1.24.gtf | head "
   ]
  },
  {
   "cell_type": "code",
   "execution_count": 11,
   "id": "dental-faculty",
   "metadata": {},
   "outputs": [
    {
     "name": "stdout",
     "output_type": "stream",
     "text": [
      "NW_011935791.1\t10564\t10567\t gene_id \"CGI_10003144\"\r\n",
      "NW_011935791.1\t10564\t10567\t gene_id \"CGI_10003144\"\r\n",
      "NW_011935791.1\t10565\t10567\t gene_id \"CGI_10003144\"\r\n",
      "NW_011935791.1\t3542\t3712\t gene_id \"CGI_10003144\"\r\n",
      "NW_011935791.1\t3542\t3712\t gene_id \"CGI_10003144\"\r\n",
      "NW_011935791.1\t3267\t3380\t gene_id \"CGI_10003144\"\r\n",
      "NW_011935791.1\t3267\t3380\t gene_id \"CGI_10003144\"\r\n",
      "NW_011935791.1\t908\t1041\t gene_id \"CGI_10003144\"\r\n",
      "NW_011935791.1\t908\t1041\t gene_id \"CGI_10003144\"\r\n",
      "NW_011935791.1\t587\t685\t gene_id \"CGI_10003144\"\r\n"
     ]
    }
   ],
   "source": [
    "#extract only the gene_id from the string\n",
    "!awk -F \"\\t\" 'NR==FNR{a[$1]=$2;next}$1 in a{print a[$1]\"\\t\"$4\"\\t\"$5\"\\t\"$9}' \\\n",
    "scaffold_localID2acc Crassostrea_gigas.GCA_000297895.1.24.gtf | \\\n",
    "awk -F\";\" '{print $1}' | head"
   ]
  },
  {
   "cell_type": "code",
   "execution_count": 12,
   "id": "referenced-grounds",
   "metadata": {},
   "outputs": [
    {
     "name": "stdout",
     "output_type": "stream",
     "text": [
      "NW_011935791.1\t10564\t10567\t CGI_10003144\r\n",
      "NW_011935791.1\t10564\t10567\t CGI_10003144\r\n",
      "NW_011935791.1\t10565\t10567\t CGI_10003144\r\n",
      "NW_011935791.1\t3542\t3712\t CGI_10003144\r\n",
      "NW_011935791.1\t3542\t3712\t CGI_10003144\r\n",
      "NW_011935791.1\t3267\t3380\t CGI_10003144\r\n",
      "NW_011935791.1\t3267\t3380\t CGI_10003144\r\n",
      "NW_011935791.1\t908\t1041\t CGI_10003144\r\n",
      "NW_011935791.1\t908\t1041\t CGI_10003144\r\n",
      "NW_011935791.1\t587\t685\t CGI_10003144\r\n",
      "sed: couldn't write 42 items to stdout: Broken pipe\r\n",
      "sed: couldn't write 43 items to stdout: Broken pipe\r\n"
     ]
    }
   ],
   "source": [
    "#remove gene_id and the quotes\n",
    "!awk -F \"\\t\" 'NR==FNR{a[$1]=$2;next}$1 in a{print a[$1]\"\\t\"$4\"\\t\"$5\"\\t\"$9}' \\\n",
    "scaffold_localID2acc Crassostrea_gigas.GCA_000297895.1.24.gtf | \\\n",
    "awk -F\";\" '{print $1}'| sed 's/gene_id\\ \\\"//g' | sed 's/\"//g' | head"
   ]
  },
  {
   "cell_type": "code",
   "execution_count": 13,
   "id": "swiss-desert",
   "metadata": {},
   "outputs": [],
   "source": [
    "!awk -F \"\\t\" 'NR==FNR{a[$1]=$2;next}$1 in a{print a[$1]\"\\t\"$4\"\\t\"$5\"\\t\"$9}' \\\n",
    "scaffold_localID2acc Crassostrea_gigas.GCA_000297895.1.24.gtf | \\\n",
    "awk -F\";\" '{print $1}'| sed 's/gene_id\\ \\\"//g' | sed 's/\"//g' > 2012acc2CGI.bed"
   ]
  },
  {
   "cell_type": "markdown",
   "id": "theoretical-prefix",
   "metadata": {},
   "source": [
    "### Match gene IDs to the Roslin coordinates"
   ]
  },
  {
   "cell_type": "code",
   "execution_count": 14,
   "id": "decent-eight",
   "metadata": {},
   "outputs": [
    {
     "name": "stdout",
     "output_type": "stream",
     "text": [
      "NW_011935743.1\t778479-787321\tNC_047559.1\t10016298-10033693\r\n",
      "NW_011935743.1\t788288-794941\tNC_047559.1\t10034114-10040976\r\n",
      "NW_011935743.1\t796933-801800\tNC_047559.1\t10043016-10047741\r\n",
      "NW_011935743.1\t796933-801800\tNC_047559.1\t10043016-10047741\r\n",
      "NW_011935743.1\t802758-811312\tNC_047559.1\t10047879-10063289\r\n",
      "NW_011935743.1\t802758-811312\tNC_047559.1\t10047879-10063289\r\n",
      "NW_011935743.1\t802758-811312\tNC_047559.1\t10047879-10063289\r\n",
      "NW_011935743.1\t815332-833354\tNC_047559.1\t10065684-10074293\r\n",
      "NW_011935743.1\t815332-833354\tNC_047559.1\t10065684-10074293\r\n",
      "NW_011935743.1\t815332-833354\tNC_047559.1\t10065684-10074293\r\n"
     ]
    }
   ],
   "source": [
    "!awk -F\"\\t\" 'NR>1{print $11\"\\t\"$12\"\\t\"$5\"\\t\"$6}' \\\n",
    "GCF_902806645.1_cgigas_uk_roslin_v1_compare_prev.txt | \\\n",
    "head"
   ]
  },
  {
   "cell_type": "code",
   "execution_count": 15,
   "id": "specified-clerk",
   "metadata": {},
   "outputs": [
    {
     "name": "stdout",
     "output_type": "stream",
     "text": [
      "NW_011935743.1\t778479\t787321\tNC_047559.1\t10016298\t10033693\r\n",
      "NW_011935743.1\t788288\t794941\tNC_047559.1\t10034114\t10040976\r\n",
      "NW_011935743.1\t796933\t801800\tNC_047559.1\t10043016\t10047741\r\n",
      "NW_011935743.1\t796933\t801800\tNC_047559.1\t10043016\t10047741\r\n",
      "NW_011935743.1\t802758\t811312\tNC_047559.1\t10047879\t10063289\r\n",
      "NW_011935743.1\t802758\t811312\tNC_047559.1\t10047879\t10063289\r\n",
      "NW_011935743.1\t802758\t811312\tNC_047559.1\t10047879\t10063289\r\n",
      "NW_011935743.1\t815332\t833354\tNC_047559.1\t10065684\t10074293\r\n",
      "NW_011935743.1\t815332\t833354\tNC_047559.1\t10065684\t10074293\r\n",
      "NW_011935743.1\t815332\t833354\tNC_047559.1\t10065684\t10074293\r\n",
      "tr: write error: Broken pipe\r\n",
      "tr: write error\r\n"
     ]
    }
   ],
   "source": [
    "#create a bed file by replacing the hyphens with tabs and only include lines that have a new and old annotation. \n",
    "!awk -F\"\\t\" 'NR>1{print $11\"\\t\"$12\"\\t\"$5\"\\t\"$6}' \\\n",
    "GCF_902806645.1_cgigas_uk_roslin_v1_compare_prev.txt |\\\n",
    "tr '-' '\\t' | awk -F\"\\t\" '{if($0!~\"NA\")print $0}' | head \n"
   ]
  },
  {
   "cell_type": "code",
   "execution_count": 18,
   "id": "graduate-principal",
   "metadata": {},
   "outputs": [
    {
     "name": "stdout",
     "output_type": "stream",
     "text": [
      "NW_011935743.1\t794815\t794834\tNC_047559.1\t10034114\t10040976\tNW_011935743.1\t794815\t794834\t CGI_10025270\r\n",
      "NW_011935743.1\t794815\t794834\tNC_047559.1\t10034114\t10040976\tNW_011935743.1\t794815\t794834\t CGI_10025270\r\n",
      "NW_011935743.1\t792921\t793261\tNC_047559.1\t10034114\t10040976\tNW_011935743.1\t792921\t793261\t CGI_10025270\r\n",
      "NW_011935743.1\t792921\t793261\tNC_047559.1\t10034114\t10040976\tNW_011935743.1\t792921\t793261\t CGI_10025270\r\n",
      "NW_011935743.1\t792496\t792691\tNC_047559.1\t10034114\t10040976\tNW_011935743.1\t792496\t792691\t CGI_10025270\r\n",
      "NW_011935743.1\t792496\t792691\tNC_047559.1\t10034114\t10040976\tNW_011935743.1\t792496\t792691\t CGI_10025270\r\n",
      "NW_011935743.1\t790588\t790757\tNC_047559.1\t10034114\t10040976\tNW_011935743.1\t790588\t790757\t CGI_10025270\r\n",
      "NW_011935743.1\t790588\t790757\tNC_047559.1\t10034114\t10040976\tNW_011935743.1\t790588\t790757\t CGI_10025270\r\n",
      "NW_011935743.1\t790005\t790139\tNC_047559.1\t10034114\t10040976\tNW_011935743.1\t790005\t790139\t CGI_10025270\r\n",
      "NW_011935743.1\t790005\t790139\tNC_047559.1\t10034114\t10040976\tNW_011935743.1\t790005\t790139\t CGI_10025270\r\n"
     ]
    }
   ],
   "source": [
    "#then intersect the Roslin coordinates with the 2012 coordinates\n",
    "!awk -F\"\\t\" 'NR>1{print $11\"\\t\"$12\"\\t\"$5\"\\t\"$6}' \\\n",
    "GCF_902806645.1_cgigas_uk_roslin_v1_compare_prev.txt |\\\n",
    "tr '-' '\\t' | awk -F\"\\t\" '{if($0!~\"NA\")print $0}' | \\\n",
    "bedtools intersect -a - -b 2012acc2CGI.bed -wb | head"
   ]
  },
  {
   "cell_type": "code",
   "execution_count": 20,
   "id": "falling-bolivia",
   "metadata": {},
   "outputs": [],
   "source": [
    "#add the hyphens back in after the bedtools intersect so the coordinates \n",
    "#can match in GCF_963853765.1_xbMagGiga1.1_compare_prev.txt \n",
    "!awk -F\"\\t\" 'NR>1{print $11\"\\t\"$12\"\\t\"$5\"\\t\"$6}' \\\n",
    "GCF_902806645.1_cgigas_uk_roslin_v1_compare_prev.txt | \\\n",
    "tr '-' '\\t' | awk -F\"\\t\" '{if($0!~\"NA\")print $0}' | \\\n",
    "bedtools intersect -a - -b 2012acc2CGI.bed -wb | \\\n",
    "awk -F\"\\t\" '{print $1\"\\t\"$2\"-\"$3\"\\t\"$4\"\\t\"$5\"-\"$6\"\\t\"$7\"\\t\"$8\"-\"$9\"\\t\"$10}' \\\n",
    "> 2012acc2RoslinCoords.txt"
   ]
  },
  {
   "cell_type": "code",
   "execution_count": 21,
   "id": "plain-outdoors",
   "metadata": {},
   "outputs": [
    {
     "name": "stdout",
     "output_type": "stream",
     "text": [
      "NW_011935743.1\t794815-794834\tNC_047559.1\t10034114-10040976\tNW_011935743.1\t794815-794834\t CGI_10025270\r\n",
      "NW_011935743.1\t794815-794834\tNC_047559.1\t10034114-10040976\tNW_011935743.1\t794815-794834\t CGI_10025270\r\n",
      "NW_011935743.1\t792921-793261\tNC_047559.1\t10034114-10040976\tNW_011935743.1\t792921-793261\t CGI_10025270\r\n",
      "NW_011935743.1\t792921-793261\tNC_047559.1\t10034114-10040976\tNW_011935743.1\t792921-793261\t CGI_10025270\r\n",
      "NW_011935743.1\t792496-792691\tNC_047559.1\t10034114-10040976\tNW_011935743.1\t792496-792691\t CGI_10025270\r\n",
      "NW_011935743.1\t792496-792691\tNC_047559.1\t10034114-10040976\tNW_011935743.1\t792496-792691\t CGI_10025270\r\n",
      "NW_011935743.1\t790588-790757\tNC_047559.1\t10034114-10040976\tNW_011935743.1\t790588-790757\t CGI_10025270\r\n",
      "NW_011935743.1\t790588-790757\tNC_047559.1\t10034114-10040976\tNW_011935743.1\t790588-790757\t CGI_10025270\r\n",
      "NW_011935743.1\t790005-790139\tNC_047559.1\t10034114-10040976\tNW_011935743.1\t790005-790139\t CGI_10025270\r\n",
      "NW_011935743.1\t790005-790139\tNC_047559.1\t10034114-10040976\tNW_011935743.1\t790005-790139\t CGI_10025270\r\n"
     ]
    }
   ],
   "source": [
    "!head 2012acc2RoslinCoords.txt"
   ]
  },
  {
   "cell_type": "code",
   "execution_count": 27,
   "id": "filled-disposition",
   "metadata": {},
   "outputs": [
    {
     "name": "stdout",
     "output_type": "stream",
     "text": [
      "#gene category\tcurrent GeneID\tcurrent gene biotype\tcurrent assembly unit\tcurrent genomic accession\tcurrent gene range\tcurrent gene strand\tprevious GeneID\tprevious gene biotype\tprevious assembly unit\tprevious genomic accession\tprevious gene range\tprevious gene strand\ttranscript category\tcurrent transcript accession\tcurrent protein accession\tcurrent transcript range\tprevious transcript accession\tprevious protein accession\tprevious transcript range\r\n",
      "Current-unmapped\t136275535\tother\tGCF_963853764.1\tNC_088853.1\t10051995-10072331\t-\tNA\tNA\tNA\tNA\tNA\tNA\tCurrent-unmapped\tXM_066085027.1\tXP_065941099.1\t10051995-10072331\tNA\tNA\tNA\r\n",
      "Current-novel\t136273123\tlncRNA\tGCF_963853764.1\tNC_088853.1\t10093026-10095271\t+\tNA\tNA\tNA\tNA\tNA\tNA\tCurrent-novel\tXR_010711319.1\tNA\t10093026-10095271\tNA\tNA\tNA\r\n"
     ]
    }
   ],
   "source": [
    "!head -n 3 GCF_963853765.1_xbMagGiga1.1_compare_prev.txt"
   ]
  },
  {
   "cell_type": "code",
   "execution_count": 28,
   "id": "floral-promise",
   "metadata": {},
   "outputs": [],
   "source": [
    "#match coords from Roslin to new genome \n",
    "!awk -F \"\\t\" 'NR==FNR{a[$3,$4]=$7;next}{print $0\"\\t\"a[$11,$12]}' \\\n",
    "2012acc2RoslinCoords.txt GCF_963853765.1_xbMagGiga1.1_compare_prev.txt > 2012acc2MagGiga.txt"
   ]
  },
  {
   "cell_type": "code",
   "execution_count": 29,
   "id": "integral-audit",
   "metadata": {},
   "outputs": [
    {
     "name": "stdout",
     "output_type": "stream",
     "text": [
      "#gene category\tcurrent GeneID\tcurrent gene biotype\tcurrent assembly unit\tcurrent genomic accession\tcurrent gene range\tcurrent gene strand\tprevious GeneID\tprevious gene biotype\tprevious assembly unit\tprevious genomic accession\tprevious gene range\tprevious gene strand\ttranscript category\tcurrent transcript accession\tcurrent protein accession\tcurrent transcript range\tprevious transcript accession\tprevious protein accession\tprevious transcript range\t\r\n",
      "Current-unmapped\t136275535\tother\tGCF_963853764.1\tNC_088853.1\t10051995-10072331\t-\tNA\tNA\tNA\tNA\tNA\tNA\tCurrent-unmapped\tXM_066085027.1\tXP_065941099.1\t10051995-10072331\tNA\tNA\tNA\t\r\n",
      "Current-novel\t136273123\tlncRNA\tGCF_963853764.1\tNC_088853.1\t10093026-10095271\t+\tNA\tNA\tNA\tNA\tNA\tNA\tCurrent-novel\tXR_010711319.1\tNA\t10093026-10095271\tNA\tNA\tNA\t\r\n",
      "Similar\t105333714\tprotein_coding\tGCF_963853764.1\tNC_088853.1\t10126862-10135365\t-\t105333714\tprotein_coding\tGCF_902806644.1\tNC_047560.1\t13815148-13825425\t-\tChanged substantially\tXM_066082549.1\tXP_065938621.1\t10126862-10135365\tXM_034463235.1\tXP_034319126.1\t13819087-13825424\t\r\n",
      "Similar\t105333714\tprotein_coding\tGCF_963853764.1\tNC_088853.1\t10126862-10135365\t-\t105333714\tprotein_coding\tGCF_902806644.1\tNC_047560.1\t13815148-13825425\t-\tPrevious-variant\tXM_066082549.1\tXP_065938621.1\t10126862-10135365\tXM_034463236.1\tXP_034319127.1\t13819087-13825424\t\r\n",
      "Similar\t105333714\tprotein_coding\tGCF_963853764.1\tNC_088853.1\t10126862-10135365\t-\t105333714\tprotein_coding\tGCF_902806644.1\tNC_047560.1\t13815148-13825425\t-\tPrevious-variant\tXM_066082549.1\tXP_065938621.1\t10126862-10135365\tXM_034463237.1\tXP_034319128.1\t13819087-13825424\t\r\n",
      "Similar\t105333714\tprotein_coding\tGCF_963853764.1\tNC_088853.1\t10126862-10135365\t-\t105333714\tprotein_coding\tGCF_902806644.1\tNC_047560.1\t13815148-13825425\t-\tPrevious-variant\tXM_066082549.1\tXP_065938621.1\t10126862-10135365\tXM_034463238.1\tXP_034319129.1\t13815148-13825425\t\r\n",
      "Current-unmapped\t136274847\tlncRNA\tGCF_963853764.1\tNC_088853.1\t10141238-10144729\t-\tNA\tNA\tNA\tNA\tNA\tNA\tCurrent-unmapped\tXR_010713271.1\tNA\t10141238-10144729\tNA\tNA\tNA\t\r\n",
      "Merged\t105333716\tprotein_coding\tGCF_963853764.1\tNC_088853.1\t10155789-10172785\t-\t117688139\tlncRNA\tGCF_902806644.1\tNC_047560.1\t13463852-13464794\t+\tMerged\tXM_034463470.2\tXP_034319361.2\t10155789-10172785\tXR_004600884.1\tNA\t13463852-13464794\t CGI_10023041\r\n",
      "Similar\t105333716\tprotein_coding\tGCF_963853764.1\tNC_088853.1\t10155789-10172785\t-\t105333716\tprotein_coding\tGCF_902806644.1\tNC_047560.1\t13839394-13859923\t-\tSimilar, change in CDS\tXM_034463470.2\tXP_034319361.2\t10155789-10172785\tXM_034463470.1\tXP_034319361.1\t13839394-13859923\t CGI_10023041\r\n"
     ]
    }
   ],
   "source": [
    "!head 2012acc2MagGiga.txt"
   ]
  },
  {
   "cell_type": "markdown",
   "id": "impaired-flower",
   "metadata": {},
   "source": [
    "### create a bed file with the new coords and the CGI ids."
   ]
  },
  {
   "cell_type": "code",
   "execution_count": 30,
   "id": "sapphire-basis",
   "metadata": {},
   "outputs": [
    {
     "name": "stdout",
     "output_type": "stream",
     "text": [
      "NC_088853.1\t10051995\t10072331\t\r\n",
      "NC_088853.1\t10093026\t10095271\t\r\n",
      "NC_088853.1\t10126862\t10135365\t\r\n",
      "NC_088853.1\t10126862\t10135365\t\r\n",
      "NC_088853.1\t10126862\t10135365\t\r\n",
      "NC_088853.1\t10126862\t10135365\t\r\n",
      "NC_088853.1\t10141238\t10144729\t\r\n",
      "NC_088853.1\t10155789\t10172785\t CGI_10023041\r\n",
      "NC_088853.1\t10155789\t10172785\t CGI_10023041\r\n",
      "NC_088853.1\t1016816\t1022674\t\r\n",
      "tr: write error: Broken pipe\r\n",
      "tr: write error\r\n"
     ]
    }
   ],
   "source": [
    "!awk -F\"\\t\" 'NR>1{print $5\"\\t\"$6\"\\t\"$21}' 2012acc2MagGiga.txt|\\\n",
    "tr '-' '\\t' |  head"
   ]
  },
  {
   "cell_type": "code",
   "execution_count": 31,
   "id": "million-queens",
   "metadata": {},
   "outputs": [],
   "source": [
    "#exclude lines that don't have something in the last column and remove the hidden space preceding the string in the last column \n",
    "!awk -F\"\\t\" 'NR>1{print $5\"\\t\"$6\"\\t\"$21}' 2012acc2MagGiga.txt|\\\n",
    "tr '-' '\\t' | awk -F \"\\t\" '{if($4~/[A-z]/)print $0}'  | \\\n",
    "tr -d ' ' > 2012acc2MagGiga.bed"
   ]
  },
  {
   "cell_type": "markdown",
   "id": "dedicated-violation",
   "metadata": {},
   "source": [
    "### run bedtools intersect to get the CGI ids accosiated with the 2021 LOC ids"
   ]
  },
  {
   "cell_type": "code",
   "execution_count": 33,
   "id": "unique-aggregate",
   "metadata": {},
   "outputs": [
    {
     "name": "stdout",
     "output_type": "stream",
     "text": [
      "NC_088853.1\t10157670\t10157797\tCGI_10023041\tNC_088853.1\tGnomon\texon\t10157671\t10157797\t.\t-\t.\tgene_id \"LOC105333716\"; transcript_id \"XM_034463470.2\"; db_xref \"GeneID:105333716\"; gene \"LOC105333716\"; product \"uncharacterized protein\"; transcript_biotype \"mRNA\"; exon_number \"21\"; \r\n",
      "NC_088853.1\t10156561\t10156737\tCGI_10023041\tNC_088853.1\tGnomon\texon\t10156562\t10156737\t.\t-\t.\tgene_id \"LOC105333716\"; transcript_id \"XM_034463470.2\"; db_xref \"GeneID:105333716\"; gene \"LOC105333716\"; product \"uncharacterized protein\"; transcript_biotype \"mRNA\"; exon_number \"22\"; \r\n",
      "NC_088853.1\t10155789\t10155948\tCGI_10023041\tNC_088853.1\tGnomon\texon\t10155790\t10155948\t.\t-\t.\tgene_id \"LOC105333716\"; transcript_id \"XM_034463470.2\"; db_xref \"GeneID:105333716\"; gene \"LOC105333716\"; product \"uncharacterized protein\"; transcript_biotype \"mRNA\"; exon_number \"23\"; \r\n",
      "NC_088853.1\t10157670\t10157797\tCGI_10023041\tNC_088853.1\tGnomon\tCDS\t10157671\t10157797\t.\t-\t0\tgene_id \"LOC105333716\"; transcript_id \"XM_034463470.2\"; db_xref \"GeneID:105333716\"; gbkey \"CDS\"; gene \"LOC105333716\"; product \"uncharacterized protein\"; protein_id \"XP_034319361.2\"; exon_number \"21\"; \r\n",
      "NC_088853.1\t10156561\t10156737\tCGI_10023041\tNC_088853.1\tGnomon\tCDS\t10156562\t10156737\t.\t-\t2\tgene_id \"LOC105333716\"; transcript_id \"XM_034463470.2\"; db_xref \"GeneID:105333716\"; gbkey \"CDS\"; gene \"LOC105333716\"; product \"uncharacterized protein\"; protein_id \"XP_034319361.2\"; exon_number \"22\"; \r\n",
      "NC_088853.1\t10155849\t10155948\tCGI_10023041\tNC_088853.1\tGnomon\tCDS\t10155850\t10155948\t.\t-\t0\tgene_id \"LOC105333716\"; transcript_id \"XM_034463470.2\"; db_xref \"GeneID:105333716\"; gbkey \"CDS\"; gene \"LOC105333716\"; product \"uncharacterized protein\"; protein_id \"XP_034319361.2\"; exon_number \"23\"; \r\n",
      "NC_088853.1\t10155846\t10155849\tCGI_10023041\tNC_088853.1\tGnomon\tstop_codon\t10155847\t10155849\t.\t-\t0\tgene_id \"LOC105333716\"; transcript_id \"XM_034463470.2\"; db_xref \"GeneID:105333716\"; gbkey \"CDS\"; gene \"LOC105333716\"; product \"uncharacterized protein\"; protein_id \"XP_034319361.2\"; exon_number \"23\"; \r\n",
      "NC_088853.1\t10172645\t10172785\tCGI_10023041\tNC_088853.1\tGnomon\texon\t10172646\t10172786\t.\t-\t.\tgene_id \"LOC105333716\"; transcript_id \"XM_034463470.2\"; db_xref \"GeneID:105333716\"; gene \"LOC105333716\"; product \"uncharacterized protein\"; transcript_biotype \"mRNA\"; exon_number \"1\"; \r\n",
      "NC_088853.1\t10172123\t10172212\tCGI_10023041\tNC_088853.1\tGnomon\texon\t10172124\t10172212\t.\t-\t.\tgene_id \"LOC105333716\"; transcript_id \"XM_034463470.2\"; db_xref \"GeneID:105333716\"; gene \"LOC105333716\"; product \"uncharacterized protein\"; transcript_biotype \"mRNA\"; exon_number \"2\"; \r\n",
      "NC_088853.1\t10171054\t10171132\tCGI_10023041\tNC_088853.1\tGnomon\texon\t10171055\t10171132\t.\t-\t.\tgene_id \"LOC105333716\"; transcript_id \"XM_034463470.2\"; db_xref \"GeneID:105333716\"; gene \"LOC105333716\"; product \"uncharacterized protein\"; transcript_biotype \"mRNA\"; exon_number \"3\"; \r\n"
     ]
    }
   ],
   "source": [
    "!bedtools intersect -a 2012acc2MagGiga.bed \\\n",
    "-b GCF_963853765.1_xbMagGiga1.1_genomic.gtf -wb | head"
   ]
  },
  {
   "cell_type": "code",
   "execution_count": 34,
   "id": "cosmetic-twist",
   "metadata": {},
   "outputs": [],
   "source": [
    "#only keep the CGI ID in column 4 and the gene_id column\n",
    "!bedtools intersect -a 2012acc2MagGiga.bed \\\n",
    "-b GCF_963853765.1_xbMagGiga1.1_genomic.gtf -wb | \\\n",
    "awk -F\"\\t\" '{print $4\"\\t\"$13}' | awk -F\";\" '{print $1}' |\\\n",
    "sed 's/gene_id\\ \\\"//g' | sed 's/\"//g' > CGI_2012acc-2021acc_geneID.txt"
   ]
  },
  {
   "cell_type": "code",
   "execution_count": 35,
   "id": "received-creator",
   "metadata": {},
   "outputs": [
    {
     "name": "stdout",
     "output_type": "stream",
     "text": [
      "CGI_10023041\tLOC105333716\r\n",
      "CGI_10023041\tLOC105333716\r\n",
      "CGI_10023041\tLOC105333716\r\n",
      "CGI_10023041\tLOC105333716\r\n",
      "CGI_10023041\tLOC105333716\r\n",
      "CGI_10023041\tLOC105333716\r\n",
      "CGI_10023041\tLOC105333716\r\n",
      "CGI_10023041\tLOC105333716\r\n",
      "CGI_10023041\tLOC105333716\r\n",
      "CGI_10023041\tLOC105333716\r\n"
     ]
    }
   ],
   "source": [
    "!head CGI_2012acc-2021acc_geneID.txt"
   ]
  },
  {
   "cell_type": "code",
   "execution_count": null,
   "id": "accredited-thompson",
   "metadata": {},
   "outputs": [],
   "source": [
    "!cat CGI_2012acc-2021acc_geneID.txt | sort | uniq > CGI_2012acc-2021acc_geneID_uniq.txt"
   ]
  },
  {
   "cell_type": "markdown",
   "id": "attached-experiment",
   "metadata": {},
   "source": [
    "### Subset gene_counts_matrix for overlapping genes"
   ]
  },
  {
   "cell_type": "code",
   "execution_count": 37,
   "id": "relative-chemistry",
   "metadata": {},
   "outputs": [
    {
     "name": "stdout",
     "output_type": "stream",
     "text": [
      "LOC105327947,CGI_10017960,0,0,0,0,0,0,0,0,0,0,0,0,0,0,0,0,0,0,0,0,0,0,0,3\r",
      "\r\n",
      "LOC105336115,CGI_10017782,0,0,3,0,0,0,0,0,0,0,11,0,0,0,0,0,0,6,7,0,6,0,0,11\r",
      "\r\n",
      "LOC109617747,CGI_10001773,0,0,0,0,0,0,0,0,0,0,0,0,6,0,6,0,0,0,0,0,0,0,0,0\r",
      "\r\n",
      "LOC136270093,CGI_10007630,0,0,0,0,0,0,0,0,0,0,8,0,32,0,0,0,0,0,0,0,0,0,0,0\r",
      "\r\n",
      "LOC105319692,CGI_10007635,0,0,0,0,0,0,0,0,0,0,3,0,0,0,0,0,4,0,0,0,0,0,0,0\r",
      "\r\n",
      "LOC105337291,CGI_10023663,0,0,0,0,0,0,0,0,0,0,0,0,0,0,0,0,0,0,0,0,0,0,0,0\r",
      "\r\n",
      "LOC105342193,CGI_10003291,0,0,0,0,0,0,0,0,1,0,0,0,0,0,0,0,0,0,0,0,0,0,0,0\r",
      "\r\n",
      "LOC109617807,CGI_10024292,2,3,0,0,0,0,0,0,0,4,0,0,0,0,0,0,6,0,0,0,0,0,0,0\r",
      "\r\n",
      "LOC105320056,CGI_10026240,0,0,0,0,0,0,0,0,0,0,0,0,0,0,0,0,0,0,0,0,0,0,0,0\r",
      "\r\n",
      "LOC105343184,CGI_10008371,0,0,0,0,0,0,0,0,0,0,0,0,0,0,0,0,0,0,0,0,0,0,0,0\r",
      "\r\n"
     ]
    }
   ],
   "source": [
    " #replace tabs with commas so it can match the csv format of the matrix. Then match the CGI IDs to Roberto's matrix\n",
    "!tr '\\t' ',' < CGI_2012acc-2021acc_geneID_uniq.txt |\\\n",
    "awk -F\",\" 'NR==FNR{a[$1]=$2;next}$1 in a{print a[$1]\",\"$0}' \\\n",
    "- gene_count_matrix\\ \\(1\\).csv | head"
   ]
  },
  {
   "cell_type": "code",
   "execution_count": 38,
   "id": "contemporary-norman",
   "metadata": {},
   "outputs": [
    {
     "name": "stdout",
     "output_type": "stream",
     "text": [
      "1916\r\n"
     ]
    }
   ],
   "source": [
    "#count how many genes from Roberto's matrix match to the ID list\n",
    "!tr '\\t' ',' < CGI_2012acc-2021acc_geneID_uniq.txt | \\\n",
    "awk -F\",\" 'NR==FNR{a[$1]=$2;next}$1 in a{print a[$1]\",\"$0}' \\\n",
    "- gene_count_matrix\\ \\(1\\).csv | wc -l"
   ]
  },
  {
   "cell_type": "code",
   "execution_count": 39,
   "id": "tender-character",
   "metadata": {},
   "outputs": [
    {
     "name": "stdout",
     "output_type": "stream",
     "text": [
      "60643 gene_count_matrix (1).csv\r\n"
     ]
    }
   ],
   "source": [
    "#how many genes are in Roberto's matrix\n",
    "!wc -l gene_count_matrix\\ \\(1\\).csv"
   ]
  },
  {
   "cell_type": "code",
   "execution_count": 41,
   "id": "private-arctic",
   "metadata": {},
   "outputs": [
    {
     "name": "stdout",
     "output_type": "stream",
     "text": [
      "3364\r\n"
     ]
    }
   ],
   "source": [
    "#how many non MSTRG genes are in Roberto's matrix that are not in the ID list\n",
    "!tr '\\t' ',' < CGI_2012acc-2021acc_geneID_uniq.txt | \\\n",
    "awk -F\",\" 'NR==FNR{a[$1]=$2;next}!($1 in a){print a[$1]\",\"$0}' \\\n",
    "- gene_count_matrix\\ \\(1\\).csv | \\\n",
    "awk -F\",\" '{if($2!~/MSTRG/)print $0}' | wc -l"
   ]
  },
  {
   "cell_type": "code",
   "execution_count": 42,
   "id": "collective-shoot",
   "metadata": {},
   "outputs": [
    {
     "name": "stdout",
     "output_type": "stream",
     "text": [
      ",gene_id,Os1,Os10,Os11,Os12,Os13,Os14,Os15,Os16,Os17,Os18,Os19,Os2,Os20,Os21,Os28,Os29,Os3,Os30,Os31,Os32,Os33,Os34,Os35,Os36\r",
      "\r\n",
      ",CGI_10023662,0,0,0,0,0,0,0,0,0,0,0,0,0,0,1,0,0,0,2,0,0,0,0,0\r",
      "\r\n",
      ",CGI_10006449,0,0,0,0,0,0,0,0,0,0,0,0,0,0,0,0,0,0,0,0,0,0,0,0\r",
      "\r\n",
      ",CGI_10009778,0,0,0,0,0,0,0,0,0,0,0,0,0,0,0,0,0,0,0,0,0,0,0,0\r",
      "\r\n",
      ",CGI_10009779,0,0,0,0,0,0,0,0,0,1,0,0,0,2,0,0,0,0,0,0,0,0,0,0\r",
      "\r\n",
      ",CGI_10009770,0,0,0,0,0,0,0,0,0,0,0,0,0,0,0,0,0,0,0,0,0,0,0,0\r",
      "\r\n",
      ",CGI_10009771,0,0,0,0,0,0,0,0,0,0,0,0,0,0,0,0,0,0,0,0,0,0,0,0\r",
      "\r\n",
      ",CGI_10009775,0,0,0,0,0,0,3,0,0,0,0,0,0,0,4,0,0,0,0,0,0,0,0,0\r",
      "\r\n",
      ",CGI_10009777,0,0,0,0,0,0,0,0,0,0,0,0,0,0,0,0,0,0,0,0,0,0,0,0\r",
      "\r\n",
      ",CGI_10003290,0,0,0,0,0,0,0,0,2,0,0,0,0,0,0,0,0,0,0,0,0,0,0,0\r",
      "\r\n"
     ]
    }
   ],
   "source": [
    "#what are some of these genes that aren't in the ID list\n",
    "!tr '\\t' ',' < CGI_2012acc-2021acc_geneID_uniq.txt | \\\n",
    "awk -F\",\" 'NR==FNR{a[$1]=$2;next}!($1 in a){print a[$1]\",\"$0}' \\\n",
    "- gene_count_matrix\\ \\(1\\).csv | \\\n",
    "awk -F\",\" '{if($2!~/MSTRG/)print $0}' | head"
   ]
  },
  {
   "cell_type": "code",
   "execution_count": 43,
   "id": "postal-hollow",
   "metadata": {},
   "outputs": [
    {
     "name": "stdout",
     "output_type": "stream",
     "text": [
      "NW_011936120.1\t181462-181710\tNC_047564.1\t33741402-33742726\tNW_011936120.1\t181462-181710\t CGI_10023662\r\n",
      "NW_011936120.1\t181462-181707\tNC_047564.1\t33741402-33742726\tNW_011936120.1\t181462-181707\t CGI_10023662\r\n",
      "NW_011936120.1\t181462-181464\tNC_047564.1\t33741402-33742726\tNW_011936120.1\t181462-181464\t CGI_10023662\r\n",
      "NW_011936120.1\t181708-181710\tNC_047564.1\t33741402-33742726\tNW_011936120.1\t181708-181710\t CGI_10023662\r\n"
     ]
    }
   ],
   "source": [
    "#check one gene to see where it was lost\n",
    "!grep CGI_10023662 /mnt/c/Users/strigg/Downloads/2012acc2RoslinCoords.txt"
   ]
  },
  {
   "cell_type": "code",
   "execution_count": 44,
   "id": "involved-stuart",
   "metadata": {},
   "outputs": [
    {
     "name": "stdout",
     "output_type": "stream",
     "text": [
      "Previous-novel\tNA\tNA\tNA\tNA\tNA\tNA\t105337290\tprotein_coding\tGCF_902806644.1\tNC_047564.1\t33741402-33742726\t-\tPrevious-novel\tNA\tNA\tNA\tXM_011441944.3\tXP_011440246.2\t33741402-33742726\t CGI_10023662\r\n"
     ]
    }
   ],
   "source": [
    "#it is in the Roslin conversion. How about the Roslin-to-new genome conversion?\n",
    "!grep CGI_10023662 /mnt/c/Users/strigg/Downloads/2012acc2MagGiga.txt"
   ]
  },
  {
   "cell_type": "code",
   "execution_count": null,
   "id": "confidential-haiti",
   "metadata": {},
   "outputs": [],
   "source": [
    "#looks like the new genome does not consider this a gene any more. \n",
    "#The notation shows it was previously considered novel and now is not annotated\n",
    "#how many genes are like this?"
   ]
  },
  {
   "cell_type": "code",
   "execution_count": 45,
   "id": "handy-membership",
   "metadata": {},
   "outputs": [
    {
     "name": "stdout",
     "output_type": "stream",
     "text": [
      "    181 Previous-novel\r\n",
      "     69 Previous-other\r\n",
      "    208 Previous-unmapped\r\n"
     ]
    }
   ],
   "source": [
    "#find the genes in the matrix that don't match the id list and are not MSTRG\n",
    "#then print the line in the comparison doc that matches the CGI ids\n",
    "#then only print the new annotation, sort it and count the number of uniq values\n",
    "!tr '\\t' ',' < CGI_2012acc-2021acc_geneID_uniq.txt | \\\n",
    "awk -F\",\" 'NR==FNR{a[$1]=$2;next}!($1 in a){print a[$1]\",\"$0}' \\\n",
    "- gene_count_matrix\\ \\(1\\).csv | \\\n",
    "awk -F\",\" '{if($2!~/MSTRG/)print $2}' |\\\n",
    "awk 'NR==FNR{a[$1]=$1;next}$21 in a{print $0}' \\\n",
    "- /mnt/c/Users/strigg/Downloads/2012acc2MagGiga.txt | \\\n",
    "awk '{print $1}' | sort | uniq -c"
   ]
  },
  {
   "cell_type": "code",
   "execution_count": null,
   "id": "female-audit",
   "metadata": {},
   "outputs": [],
   "source": [
    "#so 458 are no longer annotated and that leaves 2994 that are still lost some other way."
   ]
  },
  {
   "cell_type": "code",
   "execution_count": 47,
   "id": "specified-portrait",
   "metadata": {},
   "outputs": [
    {
     "name": "stdout",
     "output_type": "stream",
     "text": [
      "gene_id\r\n",
      "CGI_10006449\r\n",
      "CGI_10009778\r\n",
      "CGI_10009779\r\n",
      "CGI_10009770\r\n",
      "CGI_10009771\r\n",
      "CGI_10009775\r\n",
      "CGI_10009777\r\n",
      "CGI_10003290\r\n",
      "CGI_10003292\r\n"
     ]
    }
   ],
   "source": [
    "#find the genes in the matrix that don't match the id list and are not MSTRG\n",
    "#then print the ids that don't match the ids in the new genome comparison doc \n",
    "!tr '\\t' ',' < CGI_2012acc-2021acc_geneID_uniq.txt | \\\n",
    "awk -F\",\" 'NR==FNR{a[$1]=$2;next}!($1 in a){print a[$1]\",\"$0}' \\\n",
    "- gene_count_matrix\\ \\(1\\).csv | \\\n",
    "awk -F\",\" '{if($2!~/MSTRG/)print $2}' | \\\n",
    "awk 'NR==FNR{a[$21]=$21;next}!($1 in a){print $0}'\\\n",
    "/mnt/c/Users/strigg/Downloads/2012acc2MagGiga.txt - | head"
   ]
  },
  {
   "cell_type": "code",
   "execution_count": 48,
   "id": "equal-trainer",
   "metadata": {},
   "outputs": [
    {
     "name": "stdout",
     "output_type": "stream",
     "text": [
      "NW_011936673.1\t16309\t16473\t CGI_10006449\r\n",
      "NW_011936673.1\t16312\t16473\t CGI_10006449\r\n",
      "NW_011936673.1\t16471\t16473\t CGI_10006449\r\n",
      "NW_011936673.1\t16309\t16311\t CGI_10006449\r\n"
     ]
    }
   ],
   "source": [
    "#check if these are in the original bed file\n",
    "!grep CGI_10006449 /mnt/c/Users/strigg/Downloads/2012acc2CGI.bed"
   ]
  },
  {
   "cell_type": "code",
   "execution_count": 49,
   "id": "cutting-blond",
   "metadata": {},
   "outputs": [
    {
     "name": "stdout",
     "output_type": "stream",
     "text": [
      "NW_011936673.1 61429-62067\n",
      "NW_011936673.1 685-10490\n",
      "NW_011936673.1 685-10490\n",
      "NW_011936673.1 685-10490\n",
      "NW_011936673.1 10565-13722\n",
      "NW_011936673.1 20831-23132\n",
      "NW_011936673.1 40282-44512\n",
      "NW_011936673.1 40282-44512\n",
      "NW_011936673.1 71475-75670\n",
      "NW_011936673.1 80485-89795\n",
      "NW_011936673.1 80485-89795\n",
      "NW_011936673.1 80485-89795\n",
      "NW_011936673.1 92157-116976\n",
      "NW_011936673.1 92157-116976\n",
      "NW_011936673.1 92157-116976\n",
      "NW_011936673.1 145740-152559\n",
      "NW_011936673.1 62556-63997\n"
     ]
    }
   ],
   "source": [
    "#check if it's in the Roslin comparison file\n",
    "!awk -F\"\\t\" '{print $11,$12}' \\\n",
    "/mnt/c/Users/strigg/Downloads/GCF_902806645.1_cgigas_uk_roslin_v1_compare_prev.txt \\\n",
    "| grep NW_011936673.1"
   ]
  },
  {
   "cell_type": "code",
   "execution_count": null,
   "id": "adjacent-ambassador",
   "metadata": {},
   "outputs": [],
   "source": [
    "#the interval in the 16000s is no longer annotated in the roslin genome\n",
    "#so it seems there really are ~3000 genes that fall out \n",
    "#so let's proceed with analysis in R of only the matching genes"
   ]
  },
  {
   "cell_type": "code",
   "execution_count": null,
   "id": "functioning-grill",
   "metadata": {},
   "outputs": [],
   "source": []
  },
  {
   "cell_type": "code",
   "execution_count": null,
   "id": "stunning-shaft",
   "metadata": {},
   "outputs": [],
   "source": []
  },
  {
   "cell_type": "code",
   "execution_count": null,
   "id": "specialized-penny",
   "metadata": {},
   "outputs": [],
   "source": []
  }
 ],
 "metadata": {
  "kernelspec": {
   "display_name": "Python 3",
   "language": "python",
   "name": "python3"
  },
  "language_info": {
   "codemirror_mode": {
    "name": "ipython",
    "version": 3
   },
   "file_extension": ".py",
   "mimetype": "text/x-python",
   "name": "python",
   "nbconvert_exporter": "python",
   "pygments_lexer": "ipython3",
   "version": "3.8.8"
  }
 },
 "nbformat": 4,
 "nbformat_minor": 5
}
